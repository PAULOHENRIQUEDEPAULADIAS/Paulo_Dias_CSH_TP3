{
  "metadata": {
    "kernelspec": {
      "name": "python",
      "display_name": "Python (Pyodide)",
      "language": "python"
    },
    "language_info": {
      "codemirror_mode": {
        "name": "python",
        "version": 3
      },
      "file_extension": ".py",
      "mimetype": "text/x-python",
      "name": "python",
      "nbconvert_exporter": "python",
      "pygments_lexer": "ipython3",
      "version": "3.8"
    }
  },
  "nbformat_minor": 5,
  "nbformat": 4,
  "cells": [
    {
      "id": "82382c16-f8c6-437d-822b-d216b275e30c",
      "cell_type": "markdown",
      "source": "# TP3 - Fundamentos de Desenvolvimento C#",
      "metadata": {}
    },
    {
      "id": "d2bb6329-f62c-40c8-b5d4-f9f2e97c7020",
      "cell_type": "markdown",
      "source": "##### Professor: Rinaldo Ferreira Junior || Estudante: Paulo Henrique de Paula Dias",
      "metadata": {}
    },
    {
      "id": "ff02eaef-0979-4516-b409-0cd70fa2ac76",
      "cell_type": "markdown",
      "source": "Links úteis:\n\nRepositório Git Hub - [Link](https://github.com/PAULOHENRIQUEDEPAULADIAS/Paulo_Dias_CSharp_TP3)",
      "metadata": {}
    },
    {
      "id": "16dc5a3b-baa3-4d8b-acfb-7dfcd599cd90",
      "cell_type": "markdown",
      "source": "Observação: Este projeto foi desenvolvido dentro de um loop. A ideia é que seja manuzeado como um sistema que está em constante funcionamento, apenas encerrando quando digitado \"Sair\".",
      "metadata": {}
    },
    {
      "id": "ef378f1f-3b04-4007-adc8-53bfa17c51fe",
      "cell_type": "markdown",
      "source": "#### Código correspondente ao arquivo Program.cs\n\nusing TP3;\n\nusing static System.Runtime.InteropServices.JavaScript.JSType;\n\n\nnamespace TP3\n{\n    class Program\n    {\n        static void Main(string[] args)\n        {\n            \n            Ingresso show1 = new Ingresso(\"Mamonas Assassinas\", 250.00, 1000);\n\n            Matricula matriculaPaulo = new Matricula(\"Paulo Henrique de Paula Dias\", \"Engenharia de Software\", 522037, \"Ativa\", \"07/2023\");\n\n            Circulo circulo = new Circulo(3.0);\n\n            Esfera esfera = new Esfera(5.0);\n\n\n            while (true)\n            {\n                Console.WriteLine(\"***** Digite o número da opção desejada *****\");\n                Console.WriteLine(\"\");\n                Console.WriteLine(\"01 - Exercício 1\");\n                Console.WriteLine(\"02 - Exercício 2 ao 6 (Classe Ingresso)\");\n                Console.WriteLine(\"03 - Exercício 7 ao 9 (Classe Matrícula)\");\n                Console.WriteLine(\"04 - Exercício 10 ao 12 (Classe da Esfera e Circulo)\");\n\n                Console.WriteLine(\"00 - Sair\");\n\n\n                string exercise = Console.ReadLine();\n\n                if (!(int.TryParse(exercise, out int cExercise)))\n                {\n                    Console.WriteLine(\"Númeração inválida!\");\n                    continue;\n                }\n\n                if (cExercise == 00)\n                {\n                    Console.WriteLine(\"Saindo ...\");\n                    break;\n                }\n                else if (cExercise == 1)\n                {\n                    Carro carro = new Carro(100, \"Ford Fiesta\", 5);\n\n                    Console.WriteLine(carro.Descricao());\n                    Console.WriteLine(\" \");\n                }\n                else if (cExercise == 2)\n                {\n                    \n                    Program_Ingressos ingressos = new Program_Ingressos();\n\n                    ingressos.Ingressos(show1);\n                    Console.WriteLine(\" \");\n                }\n                else if (cExercise == 3)\n                {\n                    Program_Matricula programMatricula = new Program_Matricula();\n\n                    programMatricula.Matricula(matriculaPaulo);\n                    Console.WriteLine(\" \");\n\n                }\n                else if (cExercise == 4)\n                {\n                    Program_Esfera_Circulo esferaCirculo = new Program_Esfera_Circulo();\n\n                    esferaCirculo.Esfera_Circulo(circulo, esfera);\n                    Console.WriteLine(\" \");\n                }\n\n            }\n        }\n    }\n}",
      "metadata": {}
    },
    {
      "id": "c080457f-9e2a-43da-8e56-d97a42499cd5",
      "cell_type": "markdown",
      "source": "Este código nos trás a principal estrutura do programa, onde podemos selecionar qual grupo de funcionalidades desejamos, se as do exercício 1, do 2 ao 6, do 7 ao 9 ou se do 10 ao 12. Também, nessa estrutura temos as instâncias utilizadas em Ingressos, Matrículas, Circulo e Esfera, declaradas no topo da página.",
      "metadata": {}
    },
    {
      "id": "499ffc88-ad60-482e-ab92-f3d1c243e020",
      "cell_type": "markdown",
      "source": "### Exercício 1 - Conceitos de Classe, Objeto, Campos e Métodos (C#)",
      "metadata": {
        "jp-MarkdownHeadingCollapsed": true
      }
    },
    {
      "id": "5ce58527-682f-4a58-bf49-ca0b989e4c13",
      "cell_type": "markdown",
      "source": "Enunciado: Explique, de forma clara e objetiva, os conceitos de classe, objeto, campos (ou atributos) e métodos no contexto da Programação Orientada a Objetos em C#. Em seguida, crie um exemplo simples (pode ser em pseudocódigo ou C#) que ilustre esses conceitos na prática. Seu exemplo deve conter:\n\n* Declaração de uma classe.\n* Pelo menos dois campos (ou atributos) diferentes.\n* Pelo menos um método que utilize ou manipule esses campos.\n* Criação de um objeto a partir da classe declarada.\n\nObservações:\n\n* Use exemplos do dia a dia (por exemplo, \"Carro\", \"Pessoa\", \"Livro\") para tornar a explicação mais acessível.\n* Relacione cada conceito do enunciado (classe, objeto, atributos, métodos) com trechos do seu exemplo prático.\n* Seja objetivo, mas inclua detalhes suficientes para demonstrar compreensão do tema.\n\nConsiderações:\n\n* Clareza e correção conceitual na explicação dos termos (classe, objeto, campos, métodos).\n* Qualidade do exemplo prático e conexão com a teoria.\n* Organização do texto e, se optar por C#, uso adequado da linguagem (nomes de classe iniciando em maiúscula, etc.).",
      "metadata": {}
    },
    {
      "id": "41c80f4a-8e6c-43df-a0aa-888618d4fd70",
      "cell_type": "markdown",
      "source": "### Solução do exercício 1.",
      "metadata": {
        "jp-MarkdownHeadingCollapsed": true
      }
    },
    {
      "id": "9bb8820e-f1e7-4707-8dc2-0bf5ffc819bb",
      "cell_type": "markdown",
      "source": "#### Explicação\n\n* \"Uma classe é um molde ou um modelo que define um conjunto de características e comportamentos comuns a objetos (instâncias) que pertencem a ela. Ou seja, a classe é a definição, e os objetos são instâncias dessa definição. No mundo real, podemos comparar uma classe a \"garrafa\", que possui características gerais, como forma, capacidade e material. Os objetos seriam as instâncias dessa classe, como garrafas de água, suco, café, chá, etc., cada uma com suas particularidades, mas todas compartilham as características definidas pela classe \"garrafa\".\" \n\n* \"Conceito de Objeto: Objeto pode ser considerado instâncias da definições de uma classe, se trata de uma referência específica que é compartilhada com a classe. No mundo real, a definição de \"Garrafa de água\", tem por classe a garrafa que possui características próprias, e o produto (Objeto) sendo a água.\"  \n\n* \"Conceito de Campos (ou Atributos): Os Campos ou atributos, são as características gerais ou específicas do conceito. Voltando ao nosso exemplo da garrafa, campos seriam \"capacidade\", \"cor\", \"formato\", etc, informações que caracterizam o item que estamos representando.\";\n\n* \"Conceito de Método: Os métodos são ações que a clásse efetua. Ela é uma ação que é associada a um objeto. Nesse exemplo de garrafa, ações podem ser, \"echer garrafa\" ou \"esvaziar garrafa\" por exemplo.",
      "metadata": {}
    },
    {
      "id": "2ec88801-f09d-4a02-be6e-c5f4a1b1faa3",
      "cell_type": "markdown",
      "source": "#### Exemplo em código\n\n* Classe \"Carro\" - Uma classe carro que abrange vários outros métodos, neste caso não estamos entrando no conceito de subclasses, mas apenas um exemplo geral.\n* Conceito de Objeto - Dentro da classe carro temos um objeto, ou uma declaração da classe \"Carro\" e seus atributos, essa declaração instancia a classe \"Carro\", ou seja, ela cria um objeto correspondente à classe com seus devidos atributos setados.\n* Conceito de Campo - Dentro da classe geral \"Carro\", temos 3 campos, indicando as características daquela classe, neste caso temos \"Capacidade de Tanque\", \"Modelo\" e \"Capacidade de Passageiros\".\n* Conceito de Método - Dentro da classe, o método \"Descrição\" é criado, que retorna as informações do objeto criado em forma de texto.",
      "metadata": {}
    },
    {
      "id": "866957e4-3c55-470d-95c4-c00422d2b688",
      "cell_type": "raw",
      "source": "namespace TP3\n{\n    public class Carro\n    {\n        private String modelo;\n        private double capacidadeDoTanque;\n        private int capacidadeDePassageiros;\n\n        public Carro(double capacidadeDoTanque, String modelo, int capacidadeDePassageiros)\n        {\n            this.modelo = modelo;\n            this.capacidadeDoTanque = capacidadeDoTanque;\n            this.capacidadeDePassageiros = capacidadeDePassageiros;\n        }\n\n        public String descricao()\n        {\n            String result = \"***** Descrições do Veículo *****\" +\n                            \"\\nModelo: \" + this.modelo +\n                            \"\\nCapacidade Do Tanque: \" + this.capacidadeDoTanque +\n                            \"\\nCapacidade de Passageiros: \" + this.capacidadeDePassageiros;\n            return result;\n        }\n    }\n}",
      "metadata": {}
    },
    {
      "id": "ba7cdbdc-025f-4010-bcb5-6be3eaf44ca8",
      "cell_type": "markdown",
      "source": "#### Dentro da opção 1 da condicional if else temos o código executor e criador da instância de carro.\n\nif (cExercise == 1)\n{\n    Carro carro = new Carro(100, \"Ford Fiesta\", 5);\n\n    Console.WriteLine(carro.Descricao());\n    Console.WriteLine(\" \");\n}",
      "metadata": {}
    },
    {
      "id": "40de3860-2460-4f95-8ab2-942b7476969a",
      "cell_type": "markdown",
      "source": "### Exercício 2 - Criando a Classe \"Ingresso\"",
      "metadata": {
        "jp-MarkdownHeadingCollapsed": true
      }
    },
    {
      "id": "4bafd1df-1a68-4727-be03-0bb4022836da",
      "cell_type": "markdown",
      "source": "Enunciado: Com base na história de usuário acima, crie uma classe que represente um Ingresso para o show. Sua tarefa é:\n\n* Declarar a classe e atributos\n    * Crie uma classe chamada Ingresso.\n    * Insira nela, pelo menos, os atributos: nomeDoShow (string), preco (double) e quantidadeDisponivel (int).\n    * Explique brevemente por que cada atributo é importante no contexto de venda de shows.\n\nConsiderações:\n\n* Declaração correta dos atributos e criação da classe Ingresso.\n* Clareza na explicação da importância de cada atributo.\n* Organização adequada do código (sem se preocupar ainda com métodos mais avançados).",
      "metadata": {}
    },
    {
      "id": "5fa94ed3-c34e-4f1f-adb0-821b0a568748",
      "cell_type": "markdown",
      "source": "### Exercício 3 - Métodos Básicos da Classe \"Ingresso\"",
      "metadata": {
        "jp-MarkdownHeadingCollapsed": true
      }
    },
    {
      "id": "5e452319-5e57-499a-b83d-dd2acc10c0da",
      "cell_type": "markdown",
      "source": "Enunciado: Dando continuidade ao contexto da venda de ingressos para um show, agora vamos aprimorar a classe Ingresso com métodos básicos:\n\n* Atualizar Preço\n    * Crie um método chamado AlterarPreco(double novoPreco) que recebe um novo preço e atualiza o atributo preco.\n* Atualizar Quantidade\n    * Crie um método chamado AlterarQuantidade(int novaQuantidade) que recebe uma nova quantidade e atualiza o atributo quantidadeDisponivel.\n* Exibir Informações\n    * Crie um método chamado ExibirInformacoes(), que mostre (no console ou como retorno de string) o nomeDoShow, o preco atual e a quantidadeDisponivel do ingresso.\n\nConsiderações:\n\n* Correta implementação dos métodos solicitados.\n* Clareza e objetividade no código, demonstrando como cada método cumpre seu papel.\n* Uso adequado dos atributos já criados na classe Ingresso.",
      "metadata": {}
    },
    {
      "id": "5d4da8b9-4866-45f2-b7aa-6d87cc16e451",
      "cell_type": "markdown",
      "source": "### Exercício 4 - Testando a Classe \"Ingresso\"",
      "metadata": {
        "jp-MarkdownHeadingCollapsed": true
      }
    },
    {
      "id": "2d69fd1f-90f5-4c6d-baa5-bd989f3384c0",
      "cell_type": "markdown",
      "source": "Enunciado: Agora é hora de testar a classe Ingresso. Para isso:\n\n* Criar Classe de Teste\n    * Crie uma nova classe (por exemplo, AppIngresso ou Program) com um método Main.\n* Instanciar um Ingresso\n    * Dentro de Main, crie um objeto da classe Ingresso.\n    * Atribua valores iniciais aos atributos (nomeDoShow, preco, quantidadeDisponivel).\n* Chamar os Métodos de Atualização\n    * Chame AlterarPreco e AlterarQuantidade para modificar o preço e a quantidade disponíveis.\n    * Exibir Informações.\n    * Por fim, chame ExibirInformacoes() para confirmar se as alterações foram aplicadas corretamente.\n\nConsiderações:\n\n* Criação correta de uma classe ou método Main para executar o código.\n* Instanciação da classe Ingresso com valores iniciais nos atributos.\n* Uso correto dos métodos de atualização e exibição de informações.\n* Organização e legibilidade do código.",
      "metadata": {}
    },
    {
      "id": "58e6ac05-60f8-4af6-8ca2-9dcf1b53556f",
      "cell_type": "markdown",
      "source": "### Exercício 5 - Criando Métodos de Propriedade (Getters e Setters)",
      "metadata": {
        "jp-MarkdownHeadingCollapsed": true
      }
    },
    {
      "id": "c59d8bf0-7c80-4b80-94dd-87571bd6b759",
      "cell_type": "markdown",
      "source": "Enunciado: Ainda no contexto de venda de show, vamos criar métodos para ler e alterar os valores dos atributos sem acessar diretamente as variáveis. Esses métodos são os getters e setters.\n\n* Métodos \"Get\" (Leitura)\n    * Crie, na classe Ingresso, um método para retornar o valor de cada atributo: -GetNomeDoShow(), GetPreco(), GetQuantidadeDisponivel(), etc.\n* Métodos \"Set\" (Atualização)\n    * Crie métodos que recebam um novo valor para cada atributo: -SetNomeDoShow(string novoNome), SetPreco(double novoPreco), SetQuantidadeDisponivel(int novaQtd), etc.\n* Exemplo de Uso\n    * Mostre (no Main ou em outra classe de teste) como invocar esses métodos, por exemplo, chamando SetPreco(200.0) e em seguida GetPreco() para confirmar a atualização.\n\nObservações:\n\n* Você não precisa, neste momento, usar modificadores de acesso (public/private). Basta ter métodos simples de leitura e escrita.\n* Explique por que esses métodos (getters e setters) podem ser úteis, mesmo que não esteja usando encapsulamento total ainda.\n\nConsiderações:\n\n* Criação dos métodos de leitura (getters) e de atualização (setters) para cada atributo.\n* Demonstração clara de uso (chamada no Main ou classe de teste).\n* Clareza e objetividade na explicação sobre função dos getters e setters no gerenciamento de ingressos.",
      "metadata": {}
    },
    {
      "id": "1621df92-5ff7-4b68-98ed-05f0f8560b4f",
      "cell_type": "markdown",
      "source": "### Exercício 6 - Adicionando Construtores à Classe \"Ingresso\"",
      "metadata": {
        "jp-MarkdownHeadingCollapsed": true
      }
    },
    {
      "id": "f27a11ba-5a9d-452b-b461-40752e87defe",
      "cell_type": "markdown",
      "source": "Enunciado: Para facilitar a criação de novos ingressos no sistema, vamos definir construtores:\n\n* Criar Construtor\n    * Na classe Ingresso, crie um construtor que receba parâmetros para inicializar obrigatoriamente nomeDoShow, preco e quantidadeDisponivel.\n* Exemplificar o Uso\n    * No método Main ou em outra classe de teste, instancie um objeto do tipo Ingresso usando esse construtor.\n    * Exiba as informações do objeto (usando ExibirInformacoes() ou getters) para confirmar que os valores foram atribuídos corretamente.\n* Justificativa\n    * Explique por que usar um construtor facilita a criação de objetos em relação a chamar vários métodos Set... separadamente.\n\nConsiderações:\n\n* Declaração correta de um construtor com parâmetros na classe Ingresso.\n* Atribuição adequada dos atributos nomeDoShow, preco e quantidadeDisponivel.\n* Demonstração clara do uso do construtor (instanciando um objeto e exibindo informações).\n* Clareza na explicação da utilidade dos construtores.",
      "metadata": {}
    },
    {
      "id": "a361ec48-6103-4c00-83b1-0ffca5ba89f5",
      "cell_type": "markdown",
      "source": "### Solução do exercício 2 ao 6",
      "metadata": {
        "jp-MarkdownHeadingCollapsed": true
      }
    },
    {
      "id": "d1e14065-b730-4822-a881-5ac147a46854",
      "cell_type": "markdown",
      "source": "#### Explicação\nRespeitando as normas de convençaõ do C#, foram adicionados sublinhados à frente de cada atributo.\n* Atributo _nomeDoShow - Se faz necessário para classificar o nome do show correspondente.\n* Atributo _preco - Se faz necessário para se saber quanto se deve cobrar pelo ingresso ao consumidor final.\n* Atributo _quantidadeDisponivel - Refere-se a quantidade de ingressos disponíveis, tendo em vista que o show ocorre dentro de um espaço físico com limitação de área.\n\n* Getters e Setters - São utilizados para padronizar o acesso aos atributos. Porém, em C# a inicialização dos getters e setters pode ser feita de duas formas: usando o método getNome() (pensando no atributo Nome), ou de forma simplificada, utilizando a declaração public string NomeDoShow { get; set; }, que possibilita o acesso direto, sem a necessidade de escrever código extra. Para os fins deste trabalho, foram utilizados os métodos \"completos\", exigindo a escrita dos atributos get...() e set...().\n\n* Construtores - Construtores são utilizados para definir e padronizar a forma como o objeto da classe é declarado, respeitando seus atributos e suas necessidades, para que o objeto seja criado de forma completa.",
      "metadata": {},
      "attachments": {}
    },
    {
      "id": "b502f403-b7da-4639-a801-f6b364821bce",
      "cell_type": "markdown",
      "source": "#### Codigo correspondente ao arquivo Class2\n\nnamespace TP3\n{\n    public class Ingresso\n    {\n        private string _nomeDoShow;\n        private double _preco;\n        private int _quantidadeDisponivel;\n\n        public Ingresso(string nomeDoShow, double preco, int quantidadeDisponivel)\n        {\n            _nomeDoShow = nomeDoShow;\n            _preco = preco;\n            _quantidadeDisponivel = quantidadeDisponivel;\n        }\n\n        public string GetNomeDoShow()\n        {\n            return _nomeDoShow;\n        }\n\n        public double GetPreco()\n        {\n            return _preco;\n        }\n\n        public int GetQuantidadeDisponivel()\n        {\n            return _quantidadeDisponivel;\n        }\n\n        public void SetNomeDoShow(string novoNome)\n        {\n            _nomeDoShow = novoNome;\n        }\n\n        public void SetPreco(double novoPreco)\n        {\n            _preco = novoPreco;\n        }\n\n        public void SetQuantidadeDisponivel(int novaQuantidade)\n        {\n            _quantidadeDisponivel = novaQuantidade;\n        }\n\n        public void AlterarPreco(double novoPreco)\n        {\n            if (novoPreco <= 0)\n            {\n                Console.WriteLine(\"Novo preço precisa ser positivo!\");\n                return;\n            }\n\n            Console.WriteLine($\"Preço atual do ingresso: R$ {_preco}\");\n            Console.WriteLine(\"\");\n            _preco = novoPreco;\n            Console.WriteLine($\"Preço ajustado do ingresso: R$ {_preco}\");\n        }\n\n        public void AlterarQuantidade(int novaQuantidade)\n        {\n            if (novaQuantidade < 0)\n            {\n                Console.WriteLine(\"A quantidade não pode ser negativa!\");\n                return;\n            }\n\n            Console.WriteLine($\"Quantidade atual de ingressos: {_quantidadeDisponivel}\");\n            Console.WriteLine(\"\");\n            _quantidadeDisponivel = novaQuantidade;\n            Console.WriteLine($\"Quantidade ajustada de ingressos: {_quantidadeDisponivel}\");\n        }\n\n        public string ExibirInformacoes()\n        {\n            String result = $\"***** Descrições do Show *****\\n\" +\n                   $\"Nome do Show: {_nomeDoShow}\\n\" +\n                   $\"Valor do ingresso: R$ {_preco}\\n\" +\n                   $\"Quantidade de ingressos disponíveis: {_quantidadeDisponivel}\";\n\n            return result;\n        }\n\n        public void AlterarndoComGetESet()\n        {\n            Console.WriteLine($\"***** Descrições do Show *****\\n\" +\n                              $\"Nome do Show: {this.GetNomeDoShow()}\\n\" +\n                              $\"Valor do ingresso: R$ {this.GetPreco()}\\n\" +\n                              $\"Quantidade de ingressos disponíveis: {this.GetQuantidadeDisponivel()}\");\n\n            Console.WriteLine(\" \");\n\n            Console.WriteLine(\"Se deseja alterar o nome do show, digite abaixo, caso contrario, pressione Enter\");\n            string nome = Console.ReadLine();\n            Console.WriteLine(\" \");\n\n            if (!string.IsNullOrEmpty(nome))\n            {\n                this._nomeDoShow = nome;\n            }\n\n\n            Console.WriteLine(\"Se deseja alterar o valor do show, digite abaixo (Formato XX.XX), caso contrario, deixe em branco\");\n            string valor = Console.ReadLine();\n            Console.WriteLine(\" \");\n\n            if (!string.IsNullOrEmpty(valor))\n            {\n                if (Double.TryParse(valor, out double cValue))\n                {\n                    this.SetPreco(cValue);\n                }\n                else\n                {\n                    Console.WriteLine(\"Valor invalido\");\n                }\n            }\n\n\n            Console.WriteLine(\"Se desejar alterar a quantidade de ingressos disponiveis, digite abaixo, caso contrario deixe em branco\");\n            string quantidade = Console.ReadLine();\n            Console.WriteLine(\" \");\n\n            if (!string.IsNullOrEmpty(quantidade))\n            {\n                if (int.TryParse(quantidade, out int cQuantidade))\n                {\n                    this.SetQuantidadeDisponivel(cQuantidade);\n                }\n                else\n                {\n                    Console.WriteLine(\"Valor invalido\");\n                }\n            }\n\n            Console.WriteLine($\"***** Descrições do Show Atualizada *****\\n\" +\n                              $\"Nome do Show: {this.GetNomeDoShow()}\\n\" +\n                              $\"Valor do ingresso: R$ {this.GetPreco()}\\n\" +\n                              $\"Quantidade de ingressos disponíveis: {this.GetQuantidadeDisponivel()}\");\n        }\n    }\n}",
      "metadata": {}
    },
    {
      "id": "702957a6-a249-4b11-bed9-6f6b98ce6b1d",
      "cell_type": "markdown",
      "source": "* Nesta parte do código ocorre a declaração da classe Ingresso. Através dela, são configurados os atributos da classe, sendo _nomeDoShow, _preco e _quantidadeDisponivel. Também ocorre a inicialização do construtor e das funcionalidades Get e Set para seus respectivos campos. Nesta classe, quatro métodos são inicializados, todos com nomes autodescritivos: AlterarPreco, AlterarQuantidade, ExibirInformacoes. Além disso, foi criado um método extra chamado AlterandoComGetESet, que realiza as operações dos métodos anteriores, mas utilizando as funcionalidades get e set.",
      "metadata": {}
    },
    {
      "id": "682b751c-6698-43a8-a345-d04bc5a55a84",
      "cell_type": "markdown",
      "source": "#### Codigo correspondente ao arquivo Program_Ingressos.cs\n\n\nnamespace TP3\n{\n    class Program_Ingressos\n    {\n\n        public void Ingressos(Ingresso show1)\n        {\n            \n\n            while (true)\n            {\n                Console.WriteLine(\"***** Digite o número da opção desejada *****\");\n                Console.WriteLine(\"\");\n                Console.WriteLine(\"01 - Altera valor do ingresso\");\n                Console.WriteLine(\"02 - Alterar quantidade de ingressos disponíveis\");\n                Console.WriteLine(\"03 - Exibir informações dos ingressos\");\n                Console.WriteLine(\"04 - Alterando usando Get e Set\");\n\n\n                Console.WriteLine(\"00 - Sair\");\n\n\n                string exercise = Console.ReadLine();\n\n                if (!(int.TryParse(exercise, out int cExercise)))\n                {\n                    Console.WriteLine(\"Númeração inválida!\");\n                    continue;\n                }\n\n                if (cExercise == 00)\n                {\n                    Console.WriteLine(\"Saindo ...\");\n                    break;\n                }\n\n                else if (cExercise == 1)\n                {\n\n                    try\n                    {\n                        Console.WriteLine(\"Digite o novo valor do ingresso: R$ \");\n                        string novoPreco = Console.ReadLine();\n\n                        if(!Double.TryParse(novoPreco, out double cNovoPreco))\n                        {\n                            Console.WriteLine(\"Valor incorreto\");\n                        }\n\n                        show1.AlterarPreco(cNovoPreco);\n                    }\n                    catch (Exception ex)\n                    {\n                        Console.WriteLine(\"Valor inválido (Formato XX.XX)\");\n                    }\n\n                }\n\n                else if (cExercise == 2)\n                {\n                    try\n                    {\n                        Console.WriteLine(\"Digite a nova quantidade de ingressos: \");\n                        string novaQuantidade = Console.ReadLine();\n\n                        if (!int.TryParse(novaQuantidade, out int cNovaQuantidade))\n                        {\n                            Console.WriteLine(\"Valor incorreto\");\n                        }\n\n                        show1.AlterarQuantidade(cNovaQuantidade);\n                    }\n                    catch (Exception ex)\n                    {\n                        Console.WriteLine(\"Quantidade inválida (Formato XXX)\");\n                    }\n                }\n\n                else if (cExercise == 3)\n                {\n                    String result = show1.ExibirInformacoes();\n\n                    Console.WriteLine(result);\n                }\n                else if (cExercise == 4)\n                {\n                    show1.AlterarndoComGetESet();\n                }\n\n\n\n                else\n                        {\n                    Console.WriteLine(\"Númeração inválida!\");\n                }\n            }\n        }\n    }\n}",
      "metadata": {}
    },
    {
      "id": "ffeea891-c2ac-4ae2-8185-23a0848f5c66",
      "cell_type": "markdown",
      "source": "* O arquivo Program_Ingressos.cs é responsável pelo manuseio dos métodos correspondentes da classe Ingresso. Através de um menu de opções if-else, o usuário seleciona qual operação deseja realizar.",
      "metadata": {}
    },
    {
      "id": "39984e68-78de-4cc8-82fe-3797e5f462a3",
      "cell_type": "markdown",
      "source": "### Exercício 7 - Modelando uma Matrícula",
      "metadata": {
        "jp-MarkdownHeadingCollapsed": true
      }
    },
    {
      "id": "b47a707b-683a-4a92-9980-d06266a46cff",
      "cell_type": "markdown",
      "source": "Enunciado: Crie uma classe chamada 'Matricula' que contenha, no mínimo, os seguintes atributos:\n\n* NomeDoAluno (string)\n* Curso (string)\n* NumeroMatricula (int) -- identificador da matrícula\n* Situacao (string) -- por exemplo, \"Ativa\", \"Trancada\", \"Concluída\" etc.\n* DataInicial (string) -- registra a data em que a matrícula foi iniciada\n\nConsiderações:\n\n* Declaração correta da classe 'Matricula'.\n* Atributos essenciais para representar uma matrícula.\n* Código organizado e seguindo convenções básicas de C#.",
      "metadata": {}
    },
    {
      "id": "1a63259b-9e20-4499-a33f-ab8b39056384",
      "cell_type": "markdown",
      "source": "### Exercício 8 - Criando Métodos na Classe de Matrícula",
      "metadata": {
        "jp-MarkdownHeadingCollapsed": true
      }
    },
    {
      "id": "ad31144f-d812-4ca1-bde5-453735c520ba",
      "cell_type": "markdown",
      "source": "Enunciado: Agora que a classe 'Matricula' foi definida, vamos criar métodos para manipular seu estado:\n\n* Trancar Matrícula\n    * Um método Trancar() que altera Situacao para \"Trancada\".\n* Reativar Matrícula\n    * Um método Reativar() que altera Situacao para \"Ativa\".\n* Exibir Informações\n    * Um método ExibirInformacoes() que mostre (no console ou como retorno) o nome do aluno, o curso, a situação atual e a data inicial da matrícula.\n\nObservações:\n\n* Escolha nomes adequados aos métodos (iniciando com letra maiúscula ou minúscula, conforme convenção do seu projeto, mas seja consistente).\n\nConsiderações:\n\n* Implementação adequada dos métodos solicitados (trancar e reativar).\n* Exibição clara das informações básicas da matrícula.\n* Organização e clareza do código.",
      "metadata": {}
    },
    {
      "id": "587cef99-be5b-45a5-acce-b1aeb577e924",
      "cell_type": "markdown",
      "source": "### Exercício 9 - Testando a Classe de Matrícula",
      "metadata": {
        "jp-MarkdownHeadingCollapsed": true
      }
    },
    {
      "id": "e6116d74-7a1c-4c80-b334-225c82d6b20b",
      "cell_type": "markdown",
      "source": "Enunciado: Crie uma classe de teste (por exemplo, TestaMatricula) com um método Main para:\n\n* Instanciar um objeto Matricula.\n* Atribuir valores aos atributos básicos (nome do aluno, curso, número da matrícula, data inicial etc.).\n* Chamar os métodos Trancar() e Reativar(), além de ExibirInformacoes(), mostrando no console como a situação da matrícula muda.\n\nObservações:\n\n* Mantenha as convenções de nomes e boas práticas de organização de código.\n* Você pode colocar as classes em arquivos separados ou no mesmo arquivo, contanto que fique claro onde está o Main.\n\nConsiderações:\n\n* Correta instanciação da classe Matricula e atribuição de valores iniciais.\n* Chamadas adequadas aos métodos Trancar(), Reativar() e ExibirInformacoes().\n* Clareza na evidência de que os métodos funcionam (ex.: imprimir antes e depois).",
      "metadata": {}
    },
    {
      "id": "8430ffba-b00f-4ef0-b2f0-0831647595b2",
      "cell_type": "markdown",
      "source": "### Solução do exercício 7 ao 9",
      "metadata": {
        "jp-MarkdownHeadingCollapsed": true
      }
    },
    {
      "id": "fa1adb1c-1938-455e-a0a1-984697b21490",
      "cell_type": "markdown",
      "source": "#### Código correspondente ao arquivo Matricula.cs\n\nusing TP3;\n\nnamespace TP3\n{\n    public class Matricula\n    {\n        private string _nomeDoAluno;\n        private string _curso;\n        private int _numeroMatricula;\n        private string _situacao;\n        private string _dataInicial;\n\n        public Matricula(string NomeDoAluno, string Curso, int NumeroDaMatricula, string Situacao, string DataInicial)\n        {\n            _nomeDoAluno = NomeDoAluno;\n            _curso = Curso;\n            _numeroMatricula = NumeroDaMatricula;\n            _situacao = Situacao;\n            _dataInicial = DataInicial;\n        }\n\n        public string NomeDoAluno { get => _nomeDoAluno; set => _nomeDoAluno = value; }\n        public string Curso { get => _curso; set => _curso = value; }\n        public int NumeroDaMatricula => _numeroMatricula; \n        public string Situacao { get => _situacao; set => _situacao = value; }\n        public string DataInicial => _dataInicial;\n\n        public void Trancar()\n        {\n            Situacao = \"Trancada\";\n\n            Console.WriteLine(\"Matrícula trancada com sucesso\");\n            Console.WriteLine(\"\");\n\n        }\n\n        public void Reativar()\n        {\n            Situacao = \"Ativa\";\n\n            Console.WriteLine(\"Matrícula ativada com sucesso\");\n            Console.WriteLine(\"\");\n\n        }\n\n        public void ExibirInformacoes()\n        {\n            Console.WriteLine(\"\");\n\n            Console.WriteLine($\"***** Detalhes da Matrícula *****\" +\n                              $\"\\nNome do estudante: {NomeDoAluno}\" +\n                              $\"\\nCurso: {Curso}\" +\n                              $\"\\nSituação Atual: {Situacao}\" +\n                              $\"\\nData de Matrícula: {DataInicial}\");\n            Console.WriteLine(\"\");\n        }\n    }\n}\n",
      "metadata": {}
    },
    {
      "id": "3caed1c1-a720-496e-9716-7d27e5421e81",
      "cell_type": "markdown",
      "source": "Este código foi estruturado com os campos solicitados, nome, curso, situação e data inicial. Após é efetuado o constror da classe, e também os getters e setters da forma \"Moderna\" do C#. Em seguida os três métodos são desenvolvidos, Trancar(), Reativar() e ExibirInformacoes(), aos quais efetuam a alteração da situação da matrícula (Os dois primeiros) e exibem as informações atuais da matrícula.",
      "metadata": {}
    },
    {
      "id": "5366c437-fb97-4904-8f4d-2016b96b9b91",
      "cell_type": "markdown",
      "source": "#### Código correspondente ao arquivo Program_Matricula.cs\n\n\nusing TP3;\n\nnamespace TP3\n{\n    class Program_Matricula\n    {\n\n        public void Matricula(Matricula matriculaPaulo)\n        {\n            while (true)\n            {\n\n                Console.WriteLine(\"***** Digite o número da opção desejada *****\");\n                Console.WriteLine(\"\");\n                Console.WriteLine(\"01 - Trancar a matrícula do estudante\");\n                Console.WriteLine(\"02 - Ativar ou reativar a matrícula do estudante\");\n                Console.WriteLine(\"03 - Exibir as informações atuais do estudante\");\n\n\n                Console.WriteLine(\"00 - Sair\");\n\n\n                string exercise = Console.ReadLine();\n\n                if (!(int.TryParse(exercise, out int cExercise)))\n                {\n                    Console.WriteLine(\"Númeração inválida!\");\n                    continue;\n                }\n\n                if (cExercise == 00)\n                {\n                    Console.WriteLine(\"Saindo ...\");\n                    break;\n                }\n\n                else if (cExercise == 1)\n                {\n                    Console.WriteLine(\" \");\n                    matriculaPaulo.ExibirInformacoes();\n                    Console.WriteLine(\"A matrícula do estudante \" + matriculaPaulo.NomeDoAluno + \" está sendo alterada.\");\n                    matriculaPaulo.Trancar();\n                    matriculaPaulo.ExibirInformacoes();\n                    Console.WriteLine(\" \");\n\n                }\n                else if (cExercise == 2)\n                {\n                    Console.WriteLine(\" \");\n                    matriculaPaulo.ExibirInformacoes();\n                    Console.WriteLine(\"A matrícula do estudante \" + matriculaPaulo.NomeDoAluno + \" está sendo alterada.\");\n                    matriculaPaulo.Reativar();\n                    matriculaPaulo.ExibirInformacoes();\n                    Console.WriteLine(\" \");\n\n                }\n                else if (cExercise == 3)\n                {\n                    Console.WriteLine(\" \");\n                    matriculaPaulo.ExibirInformacoes();\n\n                }\n                else\n                {\n                    Console.WriteLine(\"Opção inválida\");\n                }\n            }\n        }\n    }\n}",
      "metadata": {}
    },
    {
      "id": "d3643f0e-e2b8-44d3-9e22-33d629bf7d33",
      "cell_type": "markdown",
      "source": "Esta etapa do código funciona como um menu seletor ao qual o usuário pode escolher o que deseja fazer com a matrícula. Visando exibir as informações completas da matrícula em cada alteração, na chamada dos métodos Trancar() e Reativar() existem duas chamadas do método ExibirInformacoes() uma antes da alteração e uma logo após.",
      "metadata": {}
    },
    {
      "id": "5ee68720-8296-4c3c-9073-1d9ab45f5b61",
      "cell_type": "markdown",
      "source": "### Exercício 10 - Definindo Classes de Formas Geométricas",
      "metadata": {
        "jp-MarkdownHeadingCollapsed": true
      }
    },
    {
      "id": "184fac54-9cb9-4c66-971f-75da8f358740",
      "cell_type": "markdown",
      "source": "Enunciado: Siga o passo a passo abaixo:\n\n* Classes Iniciais\n    * Crie a classe Circulo com o atributo Raio (double).\n    * Crie a classe Esfera com o atributo Raio (double).\n* Definição de Atributos\n    * Explique por que o atributo Raio é fundamental para essas figuras.\n    * Não é preciso criar métodos de cálculo ainda -- apenas estruture as classes.\n\nConsiderações:\n\n* Declaração correta das classes Circulo e Esfera.\n* Presença e clareza na definição do(s) atributo(s) necessário(s).\n* Código organizado e fácil de ler, sem introduzir conceitos não ensinados (como herança).",
      "metadata": {}
    },
    {
      "id": "f5cd81bc-5fa0-466f-a155-9a5e7640704e",
      "cell_type": "markdown",
      "source": "### Exercício 11 - Criando Métodos de Cálculo",
      "metadata": {
        "jp-MarkdownHeadingCollapsed": true
      }
    },
    {
      "id": "365bd108-37c7-4fb4-b62e-d8eaa73e0a20",
      "cell_type": "markdown",
      "source": "Enunciado: Agora, você adicionará métodos para calcular:\n\n* Área do Círculo\n    * Na classe Circulo, crie um método CalcularArea() que retorne Math.PI * (Raio * Raio).\n* Volume da Esfera\n    * Na classe Esfera, crie um método CalcularVolume() que retorne (4.0 / 3.0) * Math.PI * (Raio * Raio * Raio).\n\nObservações:\n\n* Não utilize recursos avançados de C#, como herança ou interfaces -- fique nos métodos simples.\n* Lembre-se de retornar o resultado, não somente imprimir.\n\nConsiderações:\n\n* Métodos de cálculo corretos e funcionais.\n* Retorno adequado dos valores (pode usar double).\n* Código bem organizado.",
      "metadata": {}
    },
    {
      "id": "e00cf1c3-0842-48c6-96fa-277e7ad6cabf",
      "cell_type": "markdown",
      "source": "### Exercício 12 - Testando as Classes de Figuras",
      "metadata": {
        "jp-MarkdownHeadingCollapsed": true
      }
    },
    {
      "id": "08e826da-fafb-45a0-831a-7b21f694be57",
      "cell_type": "markdown",
      "source": "Enunciado: Crie uma classe de teste (por exemplo, TestaFiguras) com Main para:\n\n* Instanciar um objeto da classe Circulo e outro da classe Esfera.\n* Definir valores de Raio (por exemplo, 3.0 para o círculo e 5.0 para a esfera).\n* Chamar os métodos CalcularArea() e CalcularVolume().\n* Exibir os resultados no console, validando se funcionam corretamente.\n\nObservações:\n\n* Caso opte por arquivos separados, lembre-se de compilar todos e depois rodar a classe com Main.\n* Não use conceitos como herança ou polimorfismo; limite-se a instanciar e chamar métodos.\n\nConsiderações:\n\n* Criação de uma classe de teste com método Main.\n* Instanciação correta de Circulo e Esfera, atribuindo Raio adequadamente.\n* Chamadas corretas aos métodos de cálculo, exibindo resultados plausíveis.\n* Organização e legibilidade do código, seguindo convenções de C#.",
      "metadata": {}
    },
    {
      "id": "35618796-4947-41f4-b80c-47094c7fc1d6",
      "cell_type": "markdown",
      "source": "### Solução do exercício 10 ao 12",
      "metadata": {
        "jp-MarkdownHeadingCollapsed": true
      }
    },
    {
      "id": "f3917da8-7477-4d80-abab-801e49a74b9a",
      "cell_type": "markdown",
      "source": "#### Explicação\n\n* Porque do atributo Raio? - Raio representa a distância do centro da forma até a sua extremidade, dessa forma, quando temos o raio², temos o raio completo, ou o diâmetro, da forma a ser analisada. Isso é importante pois como uma forma circular não possui retas em suas extremidades, não é possível efetivar o cálculo de área ou volume regularmente como se faria com um triângulo retângulo ou um quadrado por exemplo.",
      "metadata": {}
    },
    {
      "id": "3692814c-8d76-4c76-a751-a6f1a4778460",
      "cell_type": "markdown",
      "source": "#### Código correspondente ao arquivo Esfera.cs e Circulo.cs\n\nusing TP3;\n\nnamespace TP3\n{\n    public class Esfera\n    {\n        private double _raio;\n\n        public Esfera(double Raio)\n        {\n            _raio = Raio;\n        }\n\n        public double Raio { get => _raio; set => _raio = value; }\n\n\n        public double CalcularVolume()\n        {\n            return Math.Round((4.0 / 3.0) * Math.PI * (Math.Pow(Raio, 3)));\n        }\n\n    }\n}\n\n\n-----------------------------------------------------------------------------------------------------------------------------\n\n\nusing TP3;\n\nnamespace TP3\n{\n    public class Circulo\n    {\n        private double _raio;\n\n        public Circulo(double Raio)\n        {\n            _raio = Raio;\n        }\n\n        public double Raio { get => _raio; set => _raio = value; }\n\n        public double CalcularArea()\n        {\n\n            double calculo = Math.PI * (Math.Pow(Raio, 2));\n            return Math.Round(calculo, 4);\n        }\n    }\n}\n\n\n",
      "metadata": {}
    },
    {
      "id": "61e1e9ae-d081-4a13-8dc6-4c6e59d2a7a7",
      "cell_type": "markdown",
      "source": "Em ambos os códigos a estrutura segue a mesma, a criação da classe e seu atributo Raio, seu construtor, get set para o atributo Raio e seu método correspondente, cálculo de área e cálculo de volume.",
      "metadata": {}
    },
    {
      "id": "17d0bade-3749-41be-bae1-2aa419727ad1",
      "cell_type": "markdown",
      "source": "#### Código correspondente ao arquivo Program_Esfera_Circulo.cs\n\n\nnamespace TP3\n{\n    class Program_Esfera_Circulo\n    {\n\n        public void Esfera_Circulo(Circulo circulo, Esfera esfera)\n        {\n\n\n            while (true)\n            {\n                Console.WriteLine(\"***** Digite o número da opção desejada *****\");\n                Console.WriteLine(\"\");\n                Console.WriteLine(\"01 - Calcular a Área do Circulo\");\n                Console.WriteLine(\"02 - Calcular o Volume da Esfera\");\n\n\n\n                Console.WriteLine(\"00 - Sair\");\n\n\n                string exercise = Console.ReadLine();\n\n                if (!(int.TryParse(exercise, out int cExercise)))\n                {\n                    Console.WriteLine(\"Númeração inválida!\");\n                    continue;\n                }\n\n                if (cExercise == 00)\n                {\n                    Console.WriteLine(\"Saindo ...\");\n                    break;\n                }\n\n                else if (cExercise == 1)\n                {\n                    Console.WriteLine($\"Raio do Circulo: {circulo.Raio}\");\n                    Console.Write(\"Área do Círculo: \");\n                    Console.WriteLine(circulo.CalcularArea());\n\n                }\n                else if (cExercise == 2)\n                {\n                    Console.WriteLine($\"Raio da Esfera: {esfera.Raio}\");\n                    Console.Write(\"Volume da Esfera: \");\n                    Console.WriteLine(esfera.CalcularVolume());\n                }\n                else\n                {\n                    Console.WriteLine(\"Opção inválida\");\n                }\n            }\n        }\n    }\n}",
      "metadata": {}
    },
    {
      "id": "1cc44537-146a-4d7e-b539-d27bf84cb4d9",
      "cell_type": "markdown",
      "source": "Assim como os demais, essa estrutura segue o padrão de menu, onde o usuário seleciona qual das funções deseja executar, se calcular a área do círculo, ou o volume da esfera.",
      "metadata": {}
    }
  ]
}